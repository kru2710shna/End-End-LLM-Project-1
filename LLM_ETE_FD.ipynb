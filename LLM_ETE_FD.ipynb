{
 "cells": [
  {
   "cell_type": "markdown",
   "id": "403cb62c",
   "metadata": {},
   "source": [
    "# LLM Project "
   ]
  },
  {
   "cell_type": "markdown",
   "id": "9823c7c4",
   "metadata": {},
   "source": [
    "\n",
    "# Process:\n",
    "### Source              ->    Splits         -> VectorDB          ->  Retrieval                      -> Prompt "
   ]
  },
  {
   "cell_type": "markdown",
   "id": "0bcd2d61",
   "metadata": {},
   "source": [
    "# Step-1 Source "
   ]
  },
  {
   "cell_type": "markdown",
   "id": "bb4b29ec",
   "metadata": {},
   "source": [
    "\n"
   ]
  },
  {
   "cell_type": "code",
   "execution_count": 1,
   "id": "ae7cca1a",
   "metadata": {},
   "outputs": [
    {
     "name": "stdout",
     "output_type": "stream",
     "text": [
      "Virtual environment is active.\n"
     ]
    }
   ],
   "source": [
    "#Virtual Env \n",
    "!python -m venv llm\n",
    "!source llm/bin/activate\n",
    "try:\n",
    "    import llm\n",
    "    print(\"Virtual environment is active.\")\n",
    "except ImportError:\n",
    "    print(\"Virtual environment is not active.\")\n"
   ]
  },
  {
   "cell_type": "code",
   "execution_count": null,
   "id": "e9c859c7",
   "metadata": {},
   "outputs": [],
   "source": [
    "# all Intallations \n",
    "!pip install langchain\n",
    "!pip install unstructured\n",
    "!pip install python-magic\n",
    "!conda install -c conda-forge libmagic -y\n",
    "!pip install python-magic-bin -y\n"
   ]
  },
  {
   "cell_type": "code",
   "execution_count": null,
   "id": "23cc9fad",
   "metadata": {},
   "outputs": [],
   "source": [
    "import langchain\n",
    "from langchain.document_loaders import TextLoader"
   ]
  },
  {
   "cell_type": "code",
   "execution_count": null,
   "id": "16e4283c",
   "metadata": {},
   "outputs": [],
   "source": [
    "#Load \n",
    "loader = TextLoader(\"/Users/krushna/Desktop/Programming/ML/END-END LLM Finance_Domain /End-End-LLM-Project-1/LLM_E_T_E_FD.ipynb\")\n",
    "data = loader.load()\n",
    "data[0].metadata"
   ]
  },
  {
   "cell_type": "code",
   "execution_count": null,
   "id": "068358f4",
   "metadata": {},
   "outputs": [],
   "source": [
    "# Load \n",
    "from langchain.document_loaders.csv_loader import CSVLoader\n",
    "CSV_loader = CSVLoader(\"/Users/krushna/Desktop/Programming/ML/END-END LLM Finance_Domain /End-End-LLM-Project-1/movies.csv\")\n",
    "CSV_data = CSV_loader.load()\n",
    "len(CSV_data)"
   ]
  },
  {
   "cell_type": "markdown",
   "id": "3c60992a",
   "metadata": {},
   "source": [
    "# Splits "
   ]
  },
  {
   "cell_type": "markdown",
   "id": "82dcf8b1",
   "metadata": {},
   "source": [
    "#"
   ]
  },
  {
   "cell_type": "code",
   "execution_count": null,
   "id": "a096abed",
   "metadata": {},
   "outputs": [],
   "source": [
    "Text = \"\"\"Elon Reeve Musk (/ˈiːlɒn/ EE-lon; born June 28, 1971) is a businessman and investor. He is the founder, \n",
    "chairman, CEO, and CTO of SpaceX; angel investor, CEO, product architect and former chairman of Tesla, Inc.; \n",
    "owner, chairman and CTO of X Corp.; founder of the Boring Company and xAI; co-founder of Neuralink and OpenAI; \n",
    "and president of the Musk Foundation. He is the wealthiest person in the world, with an estimated net worth of \n",
    "US$232 billion as of December 2023, according to the Bloomberg Billionaires Index, and $254 billion according \n",
    "to Forbes, primarily from his ownership stakes in Tesla and SpaceX.[5][6] A member of the wealthy South African \n",
    "Musk family, Elon was born in Pretoria and briefly attended the University of Pretoria before immigrating to \n",
    "Canada at age 18, acquiring citizenship through his Canadian-born mother. Two years later, he matriculated at \n",
    "Queen's University at Kingston in Canada. Musk later transferred to the University of Pennsylvania, and \n",
    "received bachelor's degrees in economics and physics. He moved to California in 1995 to attend Stanford University.\n",
    "However, Musk dropped out after two days and, with his brother Kimbal, co-founded online city guide software \n",
    "company Zip2. The startup was acquired by Compaq for $307 million in 1999, and, that same year Musk co-founded \n",
    "X.com, a direct bank. X.com merged with Confinity in 2000 to form PayPal. In October 2002, eBay acquired PayPal \n",
    "for $1.5 billion, and that same year, with $100 million of the money he made, Musk founded SpaceX, a spaceflight \n",
    "services company. In 2004, he became an early investor in electric vehicle manufacturer Tesla Motors, Inc. \n",
    "(now Tesla, Inc.). He became its chairman and product architect, assuming the position of CEO in 2008. In 2006, \n",
    "Musk helped create SolarCity, a solar-energy company that was acquired by Tesla in 2016 and became Tesla Energy. \n",
    "In 2013, he proposed a hyperloop high-speed vactrain transportation system. In 2015, he co-founded OpenAI, a \n",
    "nonprofit artificial intelligence research company. The following year, Musk co-founded Neuralink—a \n",
    "neurotechnology company developing brain–computer interfaces—and the Boring Company, a tunnel construction company.\n",
    "In 2022, he acquired Twitter for $44 billion. He subsequently merged the company into newly created X Corp. and \n",
    "rebranded the service as X the following year. In March 2023, he founded xAI, an artificial intelligence company. \n",
    "Musk has expressed views that have made him a polarizing figure.[7][8][9] He has been criticized for making \n",
    "unscientific and misleading statements, including COVID-19 misinformation, transphobia[10][11][12] and antisemitic \n",
    "conspiracy theories.[7][13][14][15] His ownership of Twitter has been similarly controversial, being marked \n",
    "by the laying off of a large number of employees, an increase in hate speech and misinformation and disinformation\n",
    "on the website, as well as changes to Twitter Blue verification. In 2018, the U.S. Securities and Exchange \n",
    "Commission (SEC) sued him for falsely tweeting that he had secured funding for a private takeover of Tesla. \n",
    "To settle the case, Musk stepped down as the chairman of Tesla and paid a $20 million fine.\"\"\""
   ]
  },
  {
   "cell_type": "code",
   "execution_count": null,
   "id": "0aef602d",
   "metadata": {},
   "outputs": [],
   "source": [
    "from langchain.text_splitter import CharacterTextSplitter"
   ]
  },
  {
   "cell_type": "code",
   "execution_count": null,
   "id": "1cd2c07a",
   "metadata": {},
   "outputs": [],
   "source": [
    "splitter = CharacterTextSplitter (\n",
    "    separator = \"\\n\", \n",
    "    chunk_size = 200,\n",
    "    chunk_overlap = 0)\n",
    "\n",
    "chunks = splitter.split_text(Text)\n",
    "len(chunks)"
   ]
  },
  {
   "cell_type": "code",
   "execution_count": null,
   "id": "77c8e020",
   "metadata": {},
   "outputs": [],
   "source": [
    "for chunk in chunks:\n",
    "    print(len(chunk))"
   ]
  },
  {
   "cell_type": "code",
   "execution_count": null,
   "id": "e206418c",
   "metadata": {},
   "outputs": [],
   "source": [
    "from langchain.text_splitter import RecursiveCharacterTextSplitter\n",
    "r_splitter = RecursiveCharacterTextSplitter(\n",
    "    separators = [\"\\n\\n\" , \".\"],\n",
    "    chunk_size = 200,\n",
    "    chunk_overlap = 0)\n",
    "s_chunks = r_splitter.split_text(Text)\n",
    "len(s_chunks)"
   ]
  },
  {
   "cell_type": "code",
   "execution_count": null,
   "id": "2d84ec3c",
   "metadata": {},
   "outputs": [],
   "source": [
    "for chunk in s_chunks:\n",
    "    print(len(chunk))"
   ]
  },
  {
   "cell_type": "markdown",
   "id": "d5ef4d0f",
   "metadata": {},
   "source": [
    "# FAISS Index and Vector DataBase"
   ]
  },
  {
   "cell_type": "code",
   "execution_count": null,
   "id": "41392358",
   "metadata": {},
   "outputs": [],
   "source": [
    "from sentence_transformers import SentenceTransformer"
   ]
  },
  {
   "cell_type": "code",
   "execution_count": null,
   "id": "802e3543",
   "metadata": {},
   "outputs": [],
   "source": []
  }
 ],
 "metadata": {
  "kernelspec": {
   "display_name": "Python 3 (ipykernel)",
   "language": "python",
   "name": "python3"
  },
  "language_info": {
   "codemirror_mode": {
    "name": "ipython",
    "version": 3
   },
   "file_extension": ".py",
   "mimetype": "text/x-python",
   "name": "python",
   "nbconvert_exporter": "python",
   "pygments_lexer": "ipython3",
   "version": "3.10.9"
  }
 },
 "nbformat": 4,
 "nbformat_minor": 5
}
