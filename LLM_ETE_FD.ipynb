{
 "cells": [
  {
   "cell_type": "markdown",
   "id": "ebdba7eb",
   "metadata": {},
   "source": [
    "# LLM Project "
   ]
  },
  {
   "cell_type": "markdown",
   "id": "31ac0185",
   "metadata": {},
   "source": [
    "\n",
    "# Process:\n",
    "### Source              ->    Splits         -> VectorDB          ->  Retrieval                      -> Prompt "
   ]
  },
  {
   "cell_type": "markdown",
   "id": "5bfe1370",
   "metadata": {},
   "source": [
    "\n"
   ]
  },
  {
   "cell_type": "code",
   "execution_count": 1,
   "id": "15244054",
   "metadata": {},
   "outputs": [
    {
     "name": "stdout",
     "output_type": "stream",
     "text": [
      "Virtual environment is active.\n"
     ]
    }
   ],
   "source": [
    "#Virtual Env \n",
    "!python -m venv llm\n",
    "!source llm/bin/activate\n",
    "try:\n",
    "    import llm\n",
    "    print(\"Virtual environment is active.\")\n",
    "except ImportError:\n",
    "    print(\"Virtual environment is not active.\")\n"
   ]
  },
  {
   "cell_type": "code",
   "execution_count": null,
   "id": "93b94d9d",
   "metadata": {},
   "outputs": [
    {
     "name": "stdout",
     "output_type": "stream",
     "text": [
      "Requirement already satisfied: langchain in ./llm/lib/python3.10/site-packages (0.1.0)\n",
      "Requirement already satisfied: PyYAML>=5.3 in ./llm/lib/python3.10/site-packages (from langchain) (6.0.1)\n",
      "Requirement already satisfied: SQLAlchemy<3,>=1.4 in ./llm/lib/python3.10/site-packages (from langchain) (2.0.25)\n",
      "Requirement already satisfied: aiohttp<4.0.0,>=3.8.3 in ./llm/lib/python3.10/site-packages (from langchain) (3.9.1)\n",
      "Requirement already satisfied: async-timeout<5.0.0,>=4.0.0 in ./llm/lib/python3.10/site-packages (from langchain) (4.0.3)\n",
      "Requirement already satisfied: dataclasses-json<0.7,>=0.5.7 in ./llm/lib/python3.10/site-packages (from langchain) (0.6.3)\n",
      "Requirement already satisfied: jsonpatch<2.0,>=1.33 in ./llm/lib/python3.10/site-packages (from langchain) (1.33)\n",
      "Requirement already satisfied: langchain-community<0.1,>=0.0.9 in ./llm/lib/python3.10/site-packages (from langchain) (0.0.11)\n",
      "Requirement already satisfied: langchain-core<0.2,>=0.1.7 in ./llm/lib/python3.10/site-packages (from langchain) (0.1.9)\n",
      "Requirement already satisfied: langsmith<0.1.0,>=0.0.77 in ./llm/lib/python3.10/site-packages (from langchain) (0.0.79)\n",
      "Requirement already satisfied: numpy<2,>=1 in ./llm/lib/python3.10/site-packages (from langchain) (1.26.3)\n",
      "Requirement already satisfied: pydantic<3,>=1 in ./llm/lib/python3.10/site-packages (from langchain) (2.5.3)\n",
      "Requirement already satisfied: requests<3,>=2 in ./llm/lib/python3.10/site-packages (from langchain) (2.31.0)\n",
      "Requirement already satisfied: tenacity<9.0.0,>=8.1.0 in ./llm/lib/python3.10/site-packages (from langchain) (8.2.3)\n",
      "Requirement already satisfied: attrs>=17.3.0 in ./llm/lib/python3.10/site-packages (from aiohttp<4.0.0,>=3.8.3->langchain) (23.2.0)\n",
      "Requirement already satisfied: multidict<7.0,>=4.5 in ./llm/lib/python3.10/site-packages (from aiohttp<4.0.0,>=3.8.3->langchain) (6.0.4)\n",
      "Requirement already satisfied: yarl<2.0,>=1.0 in ./llm/lib/python3.10/site-packages (from aiohttp<4.0.0,>=3.8.3->langchain) (1.9.4)\n",
      "Requirement already satisfied: frozenlist>=1.1.1 in ./llm/lib/python3.10/site-packages (from aiohttp<4.0.0,>=3.8.3->langchain) (1.4.1)\n",
      "Requirement already satisfied: aiosignal>=1.1.2 in ./llm/lib/python3.10/site-packages (from aiohttp<4.0.0,>=3.8.3->langchain) (1.3.1)\n",
      "Requirement already satisfied: marshmallow<4.0.0,>=3.18.0 in ./llm/lib/python3.10/site-packages (from dataclasses-json<0.7,>=0.5.7->langchain) (3.20.2)\n",
      "Requirement already satisfied: typing-inspect<1,>=0.4.0 in ./llm/lib/python3.10/site-packages (from dataclasses-json<0.7,>=0.5.7->langchain) (0.9.0)\n",
      "Requirement already satisfied: jsonpointer>=1.9 in ./llm/lib/python3.10/site-packages (from jsonpatch<2.0,>=1.33->langchain) (2.4)\n",
      "Requirement already satisfied: anyio<5,>=3 in ./llm/lib/python3.10/site-packages (from langchain-core<0.2,>=0.1.7->langchain) (4.2.0)\n",
      "Requirement already satisfied: packaging<24.0,>=23.2 in ./llm/lib/python3.10/site-packages (from langchain-core<0.2,>=0.1.7->langchain) (23.2)\n",
      "Requirement already satisfied: annotated-types>=0.4.0 in ./llm/lib/python3.10/site-packages (from pydantic<3,>=1->langchain) (0.6.0)\n",
      "Requirement already satisfied: pydantic-core==2.14.6 in ./llm/lib/python3.10/site-packages (from pydantic<3,>=1->langchain) (2.14.6)\n",
      "Requirement already satisfied: typing-extensions>=4.6.1 in ./llm/lib/python3.10/site-packages (from pydantic<3,>=1->langchain) (4.9.0)\n",
      "Requirement already satisfied: charset-normalizer<4,>=2 in ./llm/lib/python3.10/site-packages (from requests<3,>=2->langchain) (3.3.2)\n",
      "Requirement already satisfied: idna<4,>=2.5 in ./llm/lib/python3.10/site-packages (from requests<3,>=2->langchain) (3.6)\n",
      "Requirement already satisfied: urllib3<3,>=1.21.1 in ./llm/lib/python3.10/site-packages (from requests<3,>=2->langchain) (2.1.0)\n",
      "Requirement already satisfied: certifi>=2017.4.17 in ./llm/lib/python3.10/site-packages (from requests<3,>=2->langchain) (2023.11.17)\n",
      "Requirement already satisfied: sniffio>=1.1 in ./llm/lib/python3.10/site-packages (from anyio<5,>=3->langchain-core<0.2,>=0.1.7->langchain) (1.3.0)\n",
      "Requirement already satisfied: exceptiongroup>=1.0.2 in ./llm/lib/python3.10/site-packages (from anyio<5,>=3->langchain-core<0.2,>=0.1.7->langchain) (1.2.0)\n",
      "Requirement already satisfied: mypy-extensions>=0.3.0 in ./llm/lib/python3.10/site-packages (from typing-inspect<1,>=0.4.0->dataclasses-json<0.7,>=0.5.7->langchain) (1.0.0)\n",
      "Requirement already satisfied: unstructured in ./llm/lib/python3.10/site-packages (0.12.0)\n",
      "Requirement already satisfied: chardet in ./llm/lib/python3.10/site-packages (from unstructured) (5.2.0)\n",
      "Requirement already satisfied: filetype in ./llm/lib/python3.10/site-packages (from unstructured) (1.2.0)\n",
      "Requirement already satisfied: python-magic in ./llm/lib/python3.10/site-packages (from unstructured) (0.4.27)\n",
      "Requirement already satisfied: lxml in ./llm/lib/python3.10/site-packages (from unstructured) (5.1.0)\n",
      "Requirement already satisfied: nltk in ./llm/lib/python3.10/site-packages (from unstructured) (3.8.1)\n",
      "Requirement already satisfied: tabulate in ./llm/lib/python3.10/site-packages (from unstructured) (0.9.0)\n",
      "Requirement already satisfied: requests in ./llm/lib/python3.10/site-packages (from unstructured) (2.31.0)\n",
      "Requirement already satisfied: beautifulsoup4 in ./llm/lib/python3.10/site-packages (from unstructured) (4.12.2)\n",
      "Requirement already satisfied: emoji in ./llm/lib/python3.10/site-packages (from unstructured) (2.9.0)\n",
      "Requirement already satisfied: dataclasses-json in ./llm/lib/python3.10/site-packages (from unstructured) (0.6.3)\n",
      "Requirement already satisfied: python-iso639 in ./llm/lib/python3.10/site-packages (from unstructured) (2024.1.2)\n",
      "Requirement already satisfied: langdetect in ./llm/lib/python3.10/site-packages (from unstructured) (1.0.9)\n",
      "Requirement already satisfied: numpy in ./llm/lib/python3.10/site-packages (from unstructured) (1.26.3)\n",
      "Requirement already satisfied: rapidfuzz in ./llm/lib/python3.10/site-packages (from unstructured) (3.6.1)\n",
      "Requirement already satisfied: backoff in ./llm/lib/python3.10/site-packages (from unstructured) (2.2.1)\n",
      "Requirement already satisfied: typing-extensions in ./llm/lib/python3.10/site-packages (from unstructured) (4.9.0)\n",
      "Requirement already satisfied: unstructured-client in ./llm/lib/python3.10/site-packages (from unstructured) (0.15.2)\n",
      "Requirement already satisfied: wrapt in ./llm/lib/python3.10/site-packages (from unstructured) (1.16.0)\n",
      "Requirement already satisfied: soupsieve>1.2 in ./llm/lib/python3.10/site-packages (from beautifulsoup4->unstructured) (2.5)\n",
      "Requirement already satisfied: marshmallow<4.0.0,>=3.18.0 in ./llm/lib/python3.10/site-packages (from dataclasses-json->unstructured) (3.20.2)\n",
      "Requirement already satisfied: typing-inspect<1,>=0.4.0 in ./llm/lib/python3.10/site-packages (from dataclasses-json->unstructured) (0.9.0)\n",
      "Requirement already satisfied: six in ./llm/lib/python3.10/site-packages (from langdetect->unstructured) (1.16.0)\n",
      "Requirement already satisfied: click in ./llm/lib/python3.10/site-packages (from nltk->unstructured) (8.1.7)\n",
      "Requirement already satisfied: joblib in ./llm/lib/python3.10/site-packages (from nltk->unstructured) (1.3.2)\n",
      "Requirement already satisfied: regex>=2021.8.3 in ./llm/lib/python3.10/site-packages (from nltk->unstructured) (2023.12.25)\n",
      "Requirement already satisfied: tqdm in ./llm/lib/python3.10/site-packages (from nltk->unstructured) (4.66.1)\n",
      "Requirement already satisfied: charset-normalizer<4,>=2 in ./llm/lib/python3.10/site-packages (from requests->unstructured) (3.3.2)\n",
      "Requirement already satisfied: idna<4,>=2.5 in ./llm/lib/python3.10/site-packages (from requests->unstructured) (3.6)\n",
      "Requirement already satisfied: urllib3<3,>=1.21.1 in ./llm/lib/python3.10/site-packages (from requests->unstructured) (2.1.0)\n",
      "Requirement already satisfied: certifi>=2017.4.17 in ./llm/lib/python3.10/site-packages (from requests->unstructured) (2023.11.17)\n",
      "Requirement already satisfied: jsonpath-python>=1.0.6 in ./llm/lib/python3.10/site-packages (from unstructured-client->unstructured) (1.0.6)\n",
      "Requirement already satisfied: mypy-extensions>=1.0.0 in ./llm/lib/python3.10/site-packages (from unstructured-client->unstructured) (1.0.0)\n",
      "Requirement already satisfied: packaging>=23.1 in ./llm/lib/python3.10/site-packages (from unstructured-client->unstructured) (23.2)\n",
      "Requirement already satisfied: python-dateutil>=2.8.2 in ./llm/lib/python3.10/site-packages (from unstructured-client->unstructured) (2.8.2)\n"
     ]
    },
    {
     "name": "stdout",
     "output_type": "stream",
     "text": [
      "Requirement already satisfied: python-magic in ./llm/lib/python3.10/site-packages (0.4.27)\n",
      "Collecting package metadata (current_repodata.json): done\n",
      "Solving environment: \\ \n",
      "The environment is inconsistent, please check the package plan carefully\n",
      "The following packages are causing the inconsistency:\n",
      "\n",
      "  - defaults/noarch::conda-pack==0.6.0=pyhd3eb1b0_0\n",
      "  - defaults/osx-arm64::huggingface_hub==0.10.1=py310hca03da5_0\n",
      "  - defaults/osx-arm64::zope.interface==5.4.0=py310h1a28f6b_0\n",
      "  - defaults/osx-arm64::nbformat==5.7.0=py310hca03da5_0\n",
      "  - defaults/osx-arm64::panel==0.14.3=py310hca03da5_0\n",
      "  - defaults/osx-arm64::scipy==1.10.0=py310h20cbe94_1\n",
      "  - defaults/noarch::requests-file==1.5.1=pyhd3eb1b0_0\n",
      "  - defaults/osx-arm64::black==22.6.0=py310hca03da5_0\n",
      "  - defaults/osx-arm64::anaconda-project==0.11.1=py310hca03da5_0\n",
      "  - defaults/osx-arm64::conda-repo-cli==1.0.41=py310hca03da5_0\n",
      "  - defaults/osx-arm64::qtconsole==5.4.0=py310hca03da5_0\n",
      "  - defaults/osx-arm64::python-lsp-black==1.2.1=py310hca03da5_0\n",
      "  - defaults/osx-arm64::nbclassic==0.5.2=py310hca03da5_0\n",
      "  - defaults/osx-arm64::datashader==0.14.4=py310hca03da5_0\n",
      "  - defaults/osx-arm64::anaconda-navigator==2.4.0=py310hca03da5_0\n",
      "  - defaults/osx-arm64::scikit-learn==1.2.1=py310h313beb8_0\n",
      "  - defaults/noarch::cookiecutter==1.7.3=pyhd3eb1b0_0\n",
      "  - defaults/osx-arm64::xarray==2022.11.0=py310hca03da5_0\n",
      "  - defaults/noarch::argon2-cffi==21.3.0=pyhd3eb1b0_0\n",
      "  - defaults/osx-arm64::jupyterlab_server==2.19.0=py310hca03da5_0\n",
      "  - defaults/noarch::importlib_metadata==4.11.3=hd3eb1b0_0\n",
      "  - defaults/noarch::requests-toolbelt==0.9.1=pyhd3eb1b0_0\n",
      "  - defaults/noarch::backports.functools_lru_cache==1.6.4=pyhd3eb1b0_0\n",
      "  - defaults/osx-arm64::jupyter_server==1.23.4=py310hca03da5_0\n",
      "  - defaults/osx-arm64::python-lsp-server==1.7.1=py310hca03da5_0\n",
      "  - defaults/osx-arm64::hvplot==0.8.2=py310hca03da5_0\n",
      "  - defaults/osx-arm64::notebook-shim==0.2.2=py310hca03da5_0\n",
      "  - defaults/osx-arm64::flask==2.2.2=py310hca03da5_0\n",
      "  - defaults/osx-arm64::gensim==4.3.0=py310h46d7db6_0\n",
      "  - defaults/noarch::pyls-spyder==0.4.0=pyhd3eb1b0_0\n",
      "  - defaults/osx-arm64::statsmodels==0.13.5=py310hbda83bc_1\n",
      "  - defaults/osx-arm64::bokeh==2.4.3=py310hca03da5_0\n",
      "  - defaults/osx-arm64::jupyterlab==3.5.3=py310hca03da5_0\n",
      "  - defaults/osx-arm64::jupyter_client==7.3.4=py310hca03da5_0\n",
      "  - defaults/osx-arm64::anaconda-client==1.11.2=py310hca03da5_0\n",
      "  - defaults/noarch::nltk==3.7=pyhd3eb1b0_0\n",
      "  - defaults/osx-arm64::matplotlib==3.7.0=py310hca03da5_0\n",
      "  - defaults/osx-arm64::nbconvert==6.5.4=py310hca03da5_0\n",
      "  - defaults/osx-arm64::pylint==2.16.2=py310hca03da5_0\n",
      "  - defaults/osx-arm64::jupyter_core==5.2.0=py310hca03da5_0\n",
      "  - defaults/osx-arm64::dask==2022.7.0=py310hca03da5_0\n",
      "  - defaults/osx-arm64::astroid==2.14.2=py310hca03da5_0\n",
      "  - defaults/osx-arm64::pytoolconfig==1.2.5=py310hca03da5_1\n",
      "  - defaults/osx-arm64::ipykernel==6.19.2=py310h33ce5c2_0\n",
      "  - defaults/osx-arm64::sphinx==5.0.2=py310hca03da5_0\n",
      "  - defaults/osx-arm64::scrapy==2.8.0=py310hca03da5_0\n",
      "  - defaults/noarch::conda-verify==3.4.2=py_1\n",
      "  - defaults/osx-arm64::twisted==22.2.0=py310h1a28f6b_1\n",
      "  - defaults/noarch::jupyterlab_pygments==0.1.2=py_0\n",
      "  - defaults/osx-arm64::imbalanced-learn==0.10.1=py310hca03da5_0\n",
      "  - defaults/osx-arm64::numba==0.56.4=py310h46d7db6_0\n",
      "  - defaults/noarch::pooch==1.4.0=pyhd3eb1b0_0\n",
      "  - defaults/osx-arm64::conda-build==3.24.0=py310hca03da5_0\n",
      "  - defaults/osx-arm64::nbclient==0.5.13=py310hca03da5_0\n",
      "  - defaults/osx-arm64::scikit-image==0.19.3=py310h313beb8_1\n",
      "  - defaults/osx-arm64::bcrypt==3.2.0=py310h1a28f6b_1\n",
      "  - defaults/osx-arm64::holoviews==1.15.4=py310hca03da5_0\n",
      "  - defaults/osx-arm64::conda==23.3.1=py310hca03da5_0\n",
      "  - defaults/osx-arm64::applaunchservices==0.3.0=py310hca03da5_0\n",
      "  - defaults/osx-arm64::pyct==0.5.0=py310hca03da5_0\n",
      "  - defaults/osx-arm64::transformers==4.24.0=py310hca03da5_0\n",
      "  - defaults/osx-arm64::colorcet==3.0.1=py310hca03da5_0\n",
      "  - defaults/osx-arm64::spyder==5.4.1=py310hca03da5_0\n",
      "  - defaults/osx-arm64::navigator-updater==0.3.0=py310hca03da5_0\n",
      "  - defaults/osx-arm64::notebook==6.5.2=py310hca03da5_0\n",
      "  - defaults/osx-arm64::typing-extensions==4.4.0=py310hca03da5_0\n",
      "  - defaults/osx-arm64::intake==0.6.7=py310hca03da5_0\n",
      "  - defaults/osx-arm64::distributed==2022.7.0=py310hca03da5_0\n",
      "  - defaults/osx-arm64::seaborn==0.12.2=py310hca03da5_0\n",
      "  - defaults/noarch::conda-token==0.4.0=pyhd3eb1b0_0\n",
      "  - defaults/osx-arm64::ipython==8.10.0=py310hca03da5_0\n",
      "  - defaults/osx-arm64::clyent==1.2.2=py310hca03da5_1\n",
      "  - defaults/osx-arm64::pyobjc-framework-coreservices==9.0=py310hdd8dd1f_0\n",
      "  - defaults/osx-arm64::pyobjc-framework-fsevents==9.0=py310hca03da5_0\n",
      "  - defaults/osx-arm64::rope==1.7.0=py310hca03da5_0\n",
      "  - defaults/osx-arm64::spyder-kernels==2.4.1=py310hca03da5_0\n",
      "  - defaults/osx-arm64::keyring==23.4.0=py310hca03da5_0\n",
      "  - defaults/osx-arm64::numpydoc==1.5.0=py310hca03da5_0\n",
      "  - defaults/noarch::tldextract==3.2.0=pyhd3eb1b0_0\n",
      "done\n",
      "\n",
      "\n",
      "==> WARNING: A newer version of conda exists. <==\n",
      "  current version: 23.3.1\n",
      "  latest version: 23.11.0\n",
      "\n",
      "Please update conda by running\n",
      "\n",
      "    $ conda update -n base -c defaults conda\n",
      "\n",
      "Or to minimize the number of packages updated during conda update use\n",
      "\n",
      "     conda install conda=23.11.0\n",
      "\n",
      "\n",
      "\n",
      "## Package Plan ##\n",
      "\n",
      "  environment location: /Users/krushna/anaconda3\n",
      "\n",
      "  added / updated specs:\n",
      "    - libmagic\n",
      "\n",
      "\n",
      "The following packages will be downloaded:\n",
      "\n",
      "    package                    |            build\n",
      "    ---------------------------|-----------------\n",
      "    ca-certificates-2023.11.17 |       hf0a4a13_0         151 KB  conda-forge\n",
      "    certifi-2023.11.17         |     pyhd8ed1ab_0         155 KB  conda-forge\n",
      "    click-8.1.7                |unix_pyh707e725_0          82 KB  conda-forge\n",
      "    comm-0.2.1                 |     pyhd8ed1ab_0          12 KB  conda-forge\n",
      "    decorator-5.1.1            |     pyhd8ed1ab_0          12 KB  conda-forge\n",
      "    filelock-3.13.1            |     pyhd8ed1ab_0          15 KB  conda-forge\n",
      "    importlib-metadata-7.0.1   |     pyha770c72_0          26 KB  conda-forge\n",
      "    importlib_metadata-7.0.1   |       hd8ed1ab_0           9 KB  conda-forge\n",
      "    libmagic-5.36              |       h1a28f6b_2         286 KB\n",
      "    openssl-1.1.1w             |       h53f4e23_0         1.6 MB  conda-forge\n",
      "    pandas-2.1.4               |  py310h46d7db6_0        11.8 MB\n",
      "    pip-23.3.2                 |     pyhd8ed1ab_0         1.3 MB  conda-forge\n",
      "    platformdirs-4.1.0         |     pyhd8ed1ab_0          20 KB  conda-forge\n",
      "    pygments-2.17.2            |     pyhd8ed1ab_0         840 KB  conda-forge\n",
      "    python-tzdata-2023.4       |     pyhd8ed1ab_0         143 KB  conda-forge\n",
      "    pytorch-2.1.0              |gpu_mps_py310h87e4ab7_100        47.5 MB\n",
      "    requests-2.31.0            |     pyhd8ed1ab_0          55 KB  conda-forge\n",
      "    setuptools-69.0.3          |     pyhd8ed1ab_0         460 KB  conda-forge\n",
      "    typing-extensions-4.9.0    |       hd8ed1ab_0          10 KB  conda-forge\n",
      "    typing_extensions-4.9.0    |     pyha770c72_0          35 KB  conda-forge\n",
      "    ------------------------------------------------------------\n",
      "                                           Total:        64.5 MB\n",
      "\n",
      "The following NEW packages will be INSTALLED:\n",
      "\n",
      "  click              conda-forge/noarch::click-8.1.7-unix_pyh707e725_0 \n",
      "  comm               conda-forge/noarch::comm-0.2.1-pyhd8ed1ab_0 \n",
      "  decorator          conda-forge/noarch::decorator-5.1.1-pyhd8ed1ab_0 \n",
      "  filelock           conda-forge/noarch::filelock-3.13.1-pyhd8ed1ab_0 \n",
      "  importlib-metadata conda-forge/noarch::importlib-metadata-7.0.1-pyha770c72_0 \n",
      "  libmagic           pkgs/main/osx-arm64::libmagic-5.36-h1a28f6b_2 \n",
      "  matplotlib-base    pkgs/main/osx-arm64::matplotlib-base-3.8.0-py310h46d7db6_0 \n",
      "  pandas             pkgs/main/osx-arm64::pandas-2.1.4-py310h46d7db6_0 \n",
      "  pip                conda-forge/noarch::pip-23.3.2-pyhd8ed1ab_0 \n",
      "  platformdirs       conda-forge/noarch::platformdirs-4.1.0-pyhd8ed1ab_0 \n",
      "  pygments           conda-forge/noarch::pygments-2.17.2-pyhd8ed1ab_0 \n",
      "  pyobjc-core        pkgs/main/osx-arm64::pyobjc-core-9.0-py310h3eb5a62_1 \n",
      "  pyobjc-framework-~ pkgs/main/osx-arm64::pyobjc-framework-cocoa-9.0-py310hb094c41_0 \n",
      "  python-tzdata      conda-forge/noarch::python-tzdata-2023.4-pyhd8ed1ab_0 \n",
      "  pytorch            pkgs/main/osx-arm64::pytorch-2.1.0-gpu_mps_py310h87e4ab7_100 \n",
      "  requests           conda-forge/noarch::requests-2.31.0-pyhd8ed1ab_0 \n",
      "  setuptools         conda-forge/noarch::setuptools-69.0.3-pyhd8ed1ab_0 \n",
      "  typing_extensions  conda-forge/noarch::typing_extensions-4.9.0-pyha770c72_0 \n",
      "\n",
      "The following packages will be UPDATED:\n",
      "\n",
      "  ca-certificates    pkgs/main::ca-certificates-2023.01.10~ --> conda-forge::ca-certificates-2023.11.17-hf0a4a13_0 \n",
      "  certifi            pkgs/main/osx-arm64::certifi-2022.12.~ --> conda-forge/noarch::certifi-2023.11.17-pyhd8ed1ab_0 \n",
      "  importlib_metadata pkgs/main::importlib_metadata-4.11.3-~ --> conda-forge::importlib_metadata-7.0.1-hd8ed1ab_0 \n",
      "  matplotlib                          3.7.0-py310hca03da5_0 --> 3.8.0-py310hca03da5_0 \n",
      "  openssl              pkgs/main::openssl-1.1.1t-h1a28f6b_0 --> conda-forge::openssl-1.1.1w-h53f4e23_0 \n",
      "  typing-extensions  pkgs/main/osx-arm64::typing-extension~ --> conda-forge/noarch::typing-extensions-4.9.0-hd8ed1ab_0 \n",
      "\n",
      "\n",
      "Proceed ([y]/n)? "
     ]
    }
   ],
   "source": [
    "# all Intallations \n",
    "!pip install langchain\n",
    "!pip install unstructured\n",
    "!pip install python-magic\n",
    "!conda install -c conda-forge libmagic\n",
    "!pip install python-magic-bin"
   ]
  },
  {
   "cell_type": "code",
   "execution_count": 21,
   "id": "9f9ac227",
   "metadata": {},
   "outputs": [],
   "source": [
    "import langchain\n",
    "from langchain.document_loaders import TextLoader"
   ]
  },
  {
   "cell_type": "code",
   "execution_count": 22,
   "id": "e53f54cd",
   "metadata": {},
   "outputs": [
    {
     "data": {
      "text/plain": [
       "{'source': '/Users/krushna/Desktop/Programming/ML/END-END LLM Finance_Domain /End-End-LLM-Project-1/LLM_E_T_E_FD.ipynb'}"
      ]
     },
     "execution_count": 22,
     "metadata": {},
     "output_type": "execute_result"
    }
   ],
   "source": [
    "#Load \n",
    "loader = TextLoader(\"/Users/krushna/Desktop/Programming/ML/END-END LLM Finance_Domain /End-End-LLM-Project-1/LLM_E_T_E_FD.ipynb\")\n",
    "data = loader.load()\n",
    "data[0].metadata"
   ]
  },
  {
   "cell_type": "code",
   "execution_count": 23,
   "id": "6c08ae31",
   "metadata": {},
   "outputs": [
    {
     "data": {
      "text/plain": [
       "9"
      ]
     },
     "execution_count": 23,
     "metadata": {},
     "output_type": "execute_result"
    }
   ],
   "source": [
    "# Load \n",
    "from langchain.document_loaders.csv_loader import CSVLoader\n",
    "CSV_loader = CSVLoader(\"/Users/krushna/Desktop/Programming/ML/END-END LLM Finance_Domain /End-End-LLM-Project-1/movies.csv\")\n",
    "CSV_data = CSV_loader.load()\n",
    "len(CSV_data)"
   ]
  },
  {
   "cell_type": "code",
   "execution_count": 24,
   "id": "4bbc4143",
   "metadata": {},
   "outputs": [
    {
     "name": "stderr",
     "output_type": "stream",
     "text": [
      "libmagic is unavailable but assists in filetype detection on file-like objects. Please consider installing libmagic for better results.\n",
      "Error fetching or processing https://www.investopedia.com/terms/f/financial-market.asp, exception: Invalid file. The FileType.UNK file type is not supported in partition.\n"
     ]
    },
    {
     "data": {
      "text/plain": [
       "0"
      ]
     },
     "execution_count": 24,
     "metadata": {},
     "output_type": "execute_result"
    }
   ],
   "source": [
    "#Load \n",
    "from langchain.document_loaders import UnstructuredURLLoader\n",
    "urls = [\n",
    "    \"https://www.investopedia.com/terms/f/financial-market.asp\"\n",
    "]\n",
    "\n",
    "URL_loader = UnstructuredURLLoader(urls=urls )\n",
    "URL_data = URL_loader.load()\n",
    "len(URL_data)"
   ]
  },
  {
   "cell_type": "code",
   "execution_count": null,
   "id": "32b54079",
   "metadata": {},
   "outputs": [],
   "source": [
    "\n"
   ]
  },
  {
   "cell_type": "code",
   "execution_count": null,
   "id": "fc960b09",
   "metadata": {},
   "outputs": [],
   "source": []
  },
  {
   "cell_type": "code",
   "execution_count": null,
   "id": "dff09fec",
   "metadata": {},
   "outputs": [],
   "source": []
  },
  {
   "cell_type": "code",
   "execution_count": null,
   "id": "3fc01847",
   "metadata": {},
   "outputs": [],
   "source": []
  },
  {
   "cell_type": "code",
   "execution_count": null,
   "id": "4b87bd96",
   "metadata": {},
   "outputs": [],
   "source": []
  }
 ],
 "metadata": {
  "kernelspec": {
   "display_name": "Python 3 (ipykernel)",
   "language": "python",
   "name": "python3"
  },
  "language_info": {
   "codemirror_mode": {
    "name": "ipython",
    "version": 3
   },
   "file_extension": ".py",
   "mimetype": "text/x-python",
   "name": "python",
   "nbconvert_exporter": "python",
   "pygments_lexer": "ipython3",
   "version": "3.10.9"
  }
 },
 "nbformat": 4,
 "nbformat_minor": 5
}
